{
 "cells": [
  {
   "cell_type": "markdown",
   "metadata": {
    "slideshow": {
     "slide_type": "slide"
    }
   },
   "source": [
    "# 消息中间件学习分享\n"
   ]
  },
  {
   "cell_type": "markdown",
   "metadata": {
    "slideshow": {
     "slide_type": "fragment"
    }
   },
   "source": [
    "- 为什么要使用消息中间件\n",
    "- Redis的发布订阅\n",
    "- RabbitMQ\n",
    "- Kafka"
   ]
  },
  {
   "cell_type": "markdown",
   "metadata": {
    "slideshow": {
     "slide_type": "slide"
    }
   },
   "source": [
    "### 为什么要使用消息中间件\n"
   ]
  },
  {
   "cell_type": "markdown",
   "metadata": {
    "slideshow": {
     "slide_type": "fragment"
    }
   },
   "source": [
    "- 系统解耦"
   ]
  },
  {
   "cell_type": "markdown",
   "metadata": {
    "slideshow": {
     "slide_type": "fragment"
    }
   },
   "source": [
    "- 异步调用"
   ]
  },
  {
   "cell_type": "markdown",
   "metadata": {
    "slideshow": {
     "slide_type": "fragment"
    }
   },
   "source": [
    "- 流量削峰"
   ]
  },
  {
   "cell_type": "markdown",
   "metadata": {
    "slideshow": {
     "slide_type": "fragment"
    }
   },
   "source": [
    "- ..."
   ]
  },
  {
   "cell_type": "markdown",
   "metadata": {
    "slideshow": {
     "slide_type": "slide"
    }
   },
   "source": [
    "## Redis的发布订阅\n"
   ]
  },
  {
   "cell_type": "markdown",
   "metadata": {
    "slideshow": {
     "slide_type": "fragment"
    }
   },
   "source": [
    "在平时生活中发布/订阅模式是非常常见的场景。"
   ]
  },
  {
   "cell_type": "markdown",
   "metadata": {
    "slideshow": {
     "slide_type": "fragment"
    }
   },
   "source": [
    "比如微信公众号，公众号作者发布文章，会广播给每个订阅者。在这个场景里，微信公众号就是一个Pulisher，微信用户就是一个Subscriber，发布的文章就是一个消息。"
   ]
  },
  {
   "cell_type": "markdown",
   "metadata": {
    "slideshow": {
     "slide_type": "subslide"
    }
   },
   "source": [
    "![](img/pubsub.png)"
   ]
  },
  {
   "cell_type": "markdown",
   "metadata": {
    "slideshow": {
     "slide_type": "subslide"
    }
   },
   "source": [
    "发送者(pub)发送消息，订阅者(sub)接收消息。\n",
    "\n",
    "客户端可以订阅任意数量的频道， 当有新消息发送到某个频道时，信息就会被发送给所有订阅了该频道的客户端。"
   ]
  },
  {
   "cell_type": "markdown",
   "metadata": {
    "slideshow": {
     "slide_type": "fragment"
    }
   },
   "source": [
    "- PUBLISH\n",
    "- SUBSCRIBE\n",
    "- UNSUBSCRIBE\n",
    "- PSUBSCRIBE\n",
    "- PUNSUBSCRIBE"
   ]
  },
  {
   "cell_type": "markdown",
   "metadata": {
    "slideshow": {
     "slide_type": "subslide"
    }
   },
   "source": [
    "\n",
    "### 订阅频道（SUBSCRIBE）\n",
    "![](img/sub.svg)\n"
   ]
  },
  {
   "cell_type": "markdown",
   "metadata": {
    "slideshow": {
     "slide_type": "subslide"
    }
   },
   "source": [
    "![](img/pub.svg)"
   ]
  },
  {
   "cell_type": "markdown",
   "metadata": {
    "slideshow": {
     "slide_type": "subslide"
    }
   },
   "source": [
    "每个 Redis 服务器进程都维持着一个表示服务器状态的 redis.h/redisServer 结构， 结构的 pubsub_channels 属性是一个字典， 这个字典就用于保存订阅频道的信息：\n",
    "```c\n",
    "struct redisServer {\n",
    "    // ...\n",
    "    dict *pubsub_channels;\n",
    "    // ...\n",
    "}\n",
    "```\n",
    "其中，字典的键为正在被订阅的频道， 而字典的值则是一个链表， 链表中保存了所有订阅这个频道的客户端。"
   ]
  },
  {
   "cell_type": "markdown",
   "metadata": {
    "slideshow": {
     "slide_type": "subslide"
    }
   },
   "source": [
    "![](img/pubsub-channels.svg)"
   ]
  },
  {
   "cell_type": "markdown",
   "metadata": {
    "slideshow": {
     "slide_type": "subslide"
    }
   },
   "source": [
    "![](img/pubsub-channel-sub.svg)"
   ]
  },
  {
   "cell_type": "markdown",
   "metadata": {
    "slideshow": {
     "slide_type": "subslide"
    }
   },
   "source": [
    "### 发布消息（PUBLISH）\n",
    "```python\n",
    "def PUBLISH(channel, message):\n",
    "\n",
    "    # 遍历所有订阅频道 channel 的客户端\n",
    "    for client in server.pubsub_channels[channel]:\n",
    "\n",
    "        # 将信息发送给它们\n",
    "        send_message(client, message)\n",
    "```"
   ]
  },
  {
   "cell_type": "markdown",
   "metadata": {
    "slideshow": {
     "slide_type": "subslide"
    }
   },
   "source": [
    "### 退订频道（UNSUBSCRIBE）"
   ]
  },
  {
   "cell_type": "markdown",
   "metadata": {
    "slideshow": {
     "slide_type": "subslide"
    }
   },
   "source": [
    "### 订阅模式（PSUBSCRIBE）\n",
    "\n",
    "Redis 的发布与订阅实现支持模式匹配（pattern matching）\n",
    "\n",
    "客户端可以订阅一个带 * 号的模式， 如果某些频道的名字和这个模式匹配， 那么当有信息发送给这些频道的时候， 客户端也会收到这些频道的信息。\n"
   ]
  },
  {
   "cell_type": "markdown",
   "metadata": {
    "slideshow": {
     "slide_type": "subslide"
    }
   },
   "source": [
    "![](img/pubsub-patterns.svg)"
   ]
  },
  {
   "cell_type": "markdown",
   "metadata": {
    "slideshow": {
     "slide_type": "subslide"
    }
   },
   "source": [
    "redisServer.pubsub_patterns 属性是一个链表，链表中保存着所有和模式相关的信息：\n",
    "\n",
    "```c\n",
    "struct redisServer {\n",
    "    // ...\n",
    "    list *pubsub_patterns;\n",
    "    // ...\n",
    "};\n",
    "```\n",
    "\n",
    "链表中的每个节点都包含一个 redis.h/pubsubPattern 结构：\n",
    "\n",
    "```c\n",
    "typedef struct pubsubPattern {\n",
    "    redisClient *client;\n",
    "    robj *pattern;\n",
    "} pubsubPattern;\n",
    "```\n"
   ]
  },
  {
   "cell_type": "markdown",
   "metadata": {
    "slideshow": {
     "slide_type": "subslide"
    }
   },
   "source": [
    "![](img/pubsub-patterns2.svg)"
   ]
  },
  {
   "cell_type": "markdown",
   "metadata": {
    "slideshow": {
     "slide_type": "subslide"
    }
   },
   "source": [
    "![](img/pubsub-patterns-sub.svg)"
   ]
  },
  {
   "cell_type": "markdown",
   "metadata": {
    "slideshow": {
     "slide_type": "subslide"
    }
   },
   "source": [
    "### 发布消息（PUBLISH）\n",
    "```python\n",
    "def PUBLISH(channel, message):\n",
    "\n",
    "    # 遍历所有订阅频道 channel 的客户端\n",
    "    for client in server.pubsub_channels[channel]:\n",
    "\n",
    "        # 将信息发送给它们\n",
    "        send_message(client, message)\n",
    "\n",
    "    # 取出所有模式，以及订阅模式的客户端\n",
    "    for pattern, client in server.pubsub_patterns:\n",
    "\n",
    "        # 如果 channel 和模式匹配\n",
    "        if match(channel, pattern):\n",
    "\n",
    "            # 那么也将信息发给订阅这个模式的客户端\n",
    "            send_message(client, message)\n",
    "```"
   ]
  },
  {
   "cell_type": "markdown",
   "metadata": {
    "slideshow": {
     "slide_type": "subslide"
    }
   },
   "source": [
    "### 退订模式（PUNSUBSCRIBE）"
   ]
  },
  {
   "cell_type": "markdown",
   "metadata": {
    "slideshow": {
     "slide_type": "slide"
    }
   },
   "source": [
    "## RabbitMQ\n",
    "\n",
    "RabbitMQ是采用 Erlang 语言实现的 AMQP 协议的消息中间件\n",
    "\n",
    "- AMQP基本组成\n",
    "- Exchange类型：direct, fanout, topic, headers"
   ]
  },
  {
   "cell_type": "markdown",
   "metadata": {
    "slideshow": {
     "slide_type": "subslide"
    }
   },
   "source": [
    "#### AMQP基本组成\n",
    "\n",
    "- producer/publisher: 消息的生产者、发布者\n",
    "- consumer/subscriber: 消息的消费者、订阅者\n",
    "- message: 消息实体\n",
    "- virtual host: 虚拟主机\n",
    "- exchange：交换机\n",
    " - queue\n",
    " - binding key\n",
    " - routing key"
   ]
  },
  {
   "cell_type": "markdown",
   "metadata": {
    "slideshow": {
     "slide_type": "subslide"
    }
   },
   "source": [
    "#### Direct Exchange\n",
    "\n",
    "![](img/direct.png)"
   ]
  },
  {
   "cell_type": "markdown",
   "metadata": {
    "slideshow": {
     "slide_type": "subslide"
    }
   },
   "source": [
    "#### Fanout Exchange\n",
    "![](img/fanout.png)"
   ]
  },
  {
   "cell_type": "markdown",
   "metadata": {
    "slideshow": {
     "slide_type": "subslide"
    }
   },
   "source": [
    "#### Topic Exchange\n",
    "\n",
    "- `*` 匹配一个单词\n",
    "- `#` 匹配一个或多个单词\n",
    "![](img/topic.png)"
   ]
  },
  {
   "cell_type": "markdown",
   "metadata": {
    "slideshow": {
     "slide_type": "subslide"
    }
   },
   "source": [
    "#### Headers Exchange\n",
    "\n",
    "RabbitMQ使用的是AMQP协议，这种协议提供了header attribute参数， Headers Exchange就是利用AMQP协议通过传送额外的路由参数来达到数据过滤的作用。"
   ]
  },
  {
   "cell_type": "markdown",
   "metadata": {
    "slideshow": {
     "slide_type": "subslide"
    }
   },
   "source": [
    "\n",
    "    使用任务队列的优点之一是能够轻松并行化工作。如果我们的队列正在积压，我们可以增加更多的worker，这样就可以轻松扩展。\n"
   ]
  },
  {
   "cell_type": "markdown",
   "metadata": {
    "slideshow": {
     "slide_type": "subslide"
    }
   },
   "source": [
    "![](img/python-one-overall.webp)"
   ]
  },
  {
   "cell_type": "markdown",
   "metadata": {
    "slideshow": {
     "slide_type": "subslide"
    }
   },
   "source": [
    "![](img/worker-queue.png)"
   ]
  },
  {
   "cell_type": "markdown",
   "metadata": {
    "slideshow": {
     "slide_type": "subslide"
    }
   },
   "source": [
    "#### 轮询分发（Round-robin）\n",
    "\n",
    "默认RabbitMQ只管分发进入队列的消息，不会关心有多少消费者（consumer）没有作出响应。平均每个消费者将会得到相同数量的消息。\n"
   ]
  },
  {
   "cell_type": "markdown",
   "metadata": {
    "slideshow": {
     "slide_type": "subslide"
    }
   },
   "source": [
    "#### 公平分发（Fair dispatch）\n",
    "\n",
    "    如果多个worker进程中，某个worker处理比较慢，另一个worker比较快，默认RabbitMQ只管分发进入队列的消息，不会关心有多少消费者没有作出响应，这样会使得比较慢的worker消息堆积过多，导致任务分配不均。\n",
    "    \n",
    "    Qos公平调度设置prefetch_count=1，即在同一时刻，不会发送超过1条消息给一个工作者（worker），直到它已经处理了上一条消息并且作出了响应。这样，RabbitMQ就会把消息分发给下一个空闲的工作者（worker）。\n",
    "    \n",
    "\n"
   ]
  },
  {
   "cell_type": "markdown",
   "metadata": {
    "slideshow": {
     "slide_type": "subslide"
    }
   },
   "source": [
    "![](img/prefetch-count.webp)"
   ]
  },
  {
   "cell_type": "markdown",
   "metadata": {
    "slideshow": {
     "slide_type": "slide"
    }
   },
   "source": [
    "## Kafka"
   ]
  },
  {
   "cell_type": "markdown",
   "metadata": {
    "slideshow": {
     "slide_type": "subslide"
    }
   },
   "source": [
    "消息的发送方被称为Producer，消息的接收方被称为Consumer，消息队列被称为Topic"
   ]
  },
  {
   "cell_type": "markdown",
   "metadata": {
    "slideshow": {
     "slide_type": "slide"
    }
   },
   "source": [
    "    没有最好的消息中间件，只有最合适的消息中间件。\n"
   ]
  },
  {
   "cell_type": "markdown",
   "metadata": {
    "slideshow": {
     "slide_type": "subslide"
    }
   },
   "source": [
    "## 参考\n",
    "\n",
    "- [《Redis 设计与实现》](https://redisbook.readthedocs.io/en/latest/feature/pubsub.html)\n",
    "- [《Kafka: The Definitive Guide\n",
    "》](https://www.oreilly.com/library/view/kafka-the-definitive/9781491936153/)\n",
    "- 《RabbitMQ实战指南》\n",
    "- [RabbitMQ消息队列学习分享.ppt](http://km.netease.com/team/cc_studio/article/231277)\n",
    "- [消息中间件选型分析：从Kafka与RabbitMQ的对比看全局](https://juejin.im/post/5acf29316fb9a028cb2e04ce#heading-8)\n",
    "- [https://kafka.apache.org/documentation/](https://kafka.apache.org/documentation/)\n",
    "- [https://www.rabbitmq.com/getstarted.html](https://www.rabbitmq.com/getstarted.html)"
   ]
  }
 ],
 "metadata": {
  "celltoolbar": "幻灯片",
  "kernelspec": {
   "display_name": "Python 3",
   "language": "python",
   "name": "python3"
  },
  "language_info": {
   "codemirror_mode": {
    "name": "ipython",
    "version": 3
   },
   "file_extension": ".py",
   "mimetype": "text/x-python",
   "name": "python",
   "nbconvert_exporter": "python",
   "pygments_lexer": "ipython3",
   "version": "3.7.4"
  },
  "widgets": {
   "application/vnd.jupyter.widget-state+json": {
    "state": {},
    "version_major": 2,
    "version_minor": 0
   }
  }
 },
 "nbformat": 4,
 "nbformat_minor": 2
}
